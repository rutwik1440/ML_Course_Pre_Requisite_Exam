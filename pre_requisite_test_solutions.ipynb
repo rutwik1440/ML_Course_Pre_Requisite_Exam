{
 "cells": [
  {
   "cell_type": "markdown",
   "id": "f1537ef1",
   "metadata": {},
   "source": [
    "Rutwik More"
   ]
  },
  {
   "cell_type": "markdown",
   "id": "25480faa",
   "metadata": {},
   "source": [
    "### Q1) How many multiplications and additions do you need to perform a matrix multiplication between a (n, k) and (k, m) matrix? Explain."
   ]
  },
  {
   "cell_type": "markdown",
   "id": "7f9c5392",
   "metadata": {},
   "source": [
    "Answer:"
   ]
  },
  {
   "cell_type": "markdown",
   "id": "143041ab",
   "metadata": {},
   "source": [
    "To perform a matrix multiplication of an (n,k) matrix and a (k,m) matrix, we will require k * m * n maultiplications. As we will form an (n,m) matrix and each term will require k multiplications. The number of additions will be (k-1) * m *n as each term will require us to add k terms (k-1 additions) and we have n * m total terms in the result."
   ]
  },
  {
   "cell_type": "markdown",
   "id": "289b58fa",
   "metadata": {},
   "source": [
    "### Q2) Write Python code to multiply the above two matrices. Solve using list of lists and then use numpy. Compare the timing of both solutions. Which one is faster? Why?"
   ]
  },
  {
   "cell_type": "markdown",
   "id": "5bbd9a0f",
   "metadata": {},
   "source": [
    "Two methods, one is list of lists and other is numpy arrays. Execution times are compared with the numpy.dot method."
   ]
  },
  {
   "cell_type": "markdown",
   "id": "3df203cf",
   "metadata": {},
   "source": [
    "The numpy method is much faster as unlike our method, it does not loop over the function rather multiplies the rows and columns directly and it deploys the fastest and most optimised matrix multiplication algorithms."
   ]
  },
  {
   "cell_type": "code",
   "execution_count": 7,
   "id": "8cc4f5ab",
   "metadata": {},
   "outputs": [
    {
     "name": "stdout",
     "output_type": "stream",
     "text": [
      "[[30, 36, 42], [66, 81, 96], [102, 126, 150]]\n",
      "Execution time -  0.0009257793426513672\n"
     ]
    }
   ],
   "source": [
    "# Code to multiply two arrays of size (n,k) and (k,m) Implimentation_1\n",
    "import numpy as np\n",
    "import time\n",
    "start = time.time()\n",
    "\n",
    "def matmul(A,B):\n",
    "    n = len(A)\n",
    "    k = len(A[0])\n",
    "    m = len(B[0])\n",
    "    ans = []\n",
    "    for i in range(n):\n",
    "        row = []\n",
    "        for j in range(m):\n",
    "            a = 0\n",
    "            for l in range(k):\n",
    "                a = a + (int(A[i][l]))*(int(B[l][j]))\n",
    "            row.append(a)\n",
    "        ans.append(row)\n",
    "    return ans        \n",
    "\n",
    "A = [[1, 2, 3], [4, 5, 6], [7, 8, 9]]\n",
    "B = [[1, 2, 3], [4, 5, 6], [7, 8, 9]]\n",
    "print(matmul(A,B))\n",
    "\n",
    "end = time.time()\n",
    "print(\"Execution time - \", end-start)"
   ]
  },
  {
   "cell_type": "code",
   "execution_count": 4,
   "id": "3514870c",
   "metadata": {},
   "outputs": [
    {
     "name": "stdout",
     "output_type": "stream",
     "text": [
      "[[ 30  36  42]\n",
      " [ 66  81  96]\n",
      " [102 126 150]]\n"
     ]
    }
   ],
   "source": [
    "# Implimentation_2\n",
    "def matrixmul(a,b):\n",
    "    p,q = a.shape\n",
    "    q,r = b.shape\n",
    "    c = np.zeros((p,r), dtype = a.dtype)\n",
    "    for i in range(p):\n",
    "        for j in range(r):\n",
    "            for k in range(q):\n",
    "                c[i,j] += a[i,k]*b[k,j]\n",
    "    return c\n",
    "a = np.array([[1, 2, 3], [4, 5, 6], [7, 8, 9]])\n",
    "b = np.array([[1, 2, 3], [4, 5, 6], [7, 8, 9]])\n",
    "print(matrixmul(a,b))"
   ]
  },
  {
   "cell_type": "code",
   "execution_count": 5,
   "id": "61062d23",
   "metadata": {},
   "outputs": [
    {
     "name": "stdout",
     "output_type": "stream",
     "text": [
      "8.58 µs ± 424 ns per loop (mean ± std. dev. of 7 runs, 100,000 loops each)\n"
     ]
    }
   ],
   "source": [
    "%%timeit\n",
    "matrixmul(a,b)"
   ]
  },
  {
   "cell_type": "code",
   "execution_count": 6,
   "id": "19d2627c",
   "metadata": {},
   "outputs": [
    {
     "name": "stdout",
     "output_type": "stream",
     "text": [
      "553 ns ± 22.8 ns per loop (mean ± std. dev. of 7 runs, 1,000,000 loops each)\n"
     ]
    }
   ],
   "source": [
    "%%timeit\n",
    "np.dot(a,b)"
   ]
  },
  {
   "cell_type": "markdown",
   "id": "91ed3fbd",
   "metadata": {},
   "source": [
    "### Q3) Finding the highest element in a list requires one pass of the array. Finding the second highest element requires 2 passes of the the array. Using this method, what is the time complexity of finding the median of the array? Can you suggest a better method? Can you implement both these methods in Python and compare against numpy.median routine in terms of time?"
   ]
  },
  {
   "cell_type": "markdown",
   "id": "9e52f5d2",
   "metadata": {},
   "source": [
    "Answer"
   ]
  },
  {
   "cell_type": "markdown",
   "id": "17d7beb8",
   "metadata": {},
   "source": [
    "In this question the trivial method has a time complexity of O(n2), while the better method is we can sort the array and then take the middle value. Time complexity for this approach will be O(nlog(n))."
   ]
  },
  {
   "cell_type": "code",
   "execution_count": 9,
   "id": "25c843a9",
   "metadata": {},
   "outputs": [],
   "source": [
    "# function to get the median:\n",
    "def getmedian(array):\n",
    "    l = len(array)\n",
    "    copyarr = np.copy(array)\n",
    "    ans = 0\n",
    "    for i in range(int(l/2)+1):\n",
    "        max_index = 0\n",
    "        max = copyarr[0]\n",
    "        for j in range(l):\n",
    "            if(copyarr[j] >= max):\n",
    "                max = copyarr[j]\n",
    "                max_index = j\n",
    "        copyarr[max_index] = -1000\n",
    "        ans = max\n",
    "    return ans\n"
   ]
  },
  {
   "cell_type": "code",
   "execution_count": 10,
   "id": "eb5fac45",
   "metadata": {},
   "outputs": [
    {
     "name": "stdout",
     "output_type": "stream",
     "text": [
      "[81 36 26 28 93 46 74 16 41 35 29  1  5 56 52 61 53 32 15  2 37]\n"
     ]
    }
   ],
   "source": [
    "input1 = np.random.randint(0,100,21)\n",
    "print(input1)"
   ]
  },
  {
   "cell_type": "code",
   "execution_count": 11,
   "id": "90f19924",
   "metadata": {},
   "outputs": [
    {
     "name": "stdout",
     "output_type": "stream",
     "text": [
      "36\n"
     ]
    }
   ],
   "source": [
    "print(getmedian(input1))"
   ]
  },
  {
   "cell_type": "code",
   "execution_count": 12,
   "id": "4a6278e9",
   "metadata": {},
   "outputs": [
    {
     "name": "stdout",
     "output_type": "stream",
     "text": [
      "16.9 µs ± 1.2 µs per loop (mean ± std. dev. of 7 runs, 100,000 loops each)\n"
     ]
    }
   ],
   "source": [
    "%%timeit\n",
    "getmedian(input1)"
   ]
  },
  {
   "cell_type": "code",
   "execution_count": 13,
   "id": "959421e2",
   "metadata": {},
   "outputs": [],
   "source": [
    "#better method\n",
    "def bettermedian(array):\n",
    "    l = len(array)\n",
    "    copyarr = np.copy(array)\n",
    "    sortedarr = np.sort(copyarr)\n",
    "    return sortedarr[int(l/2)]"
   ]
  },
  {
   "cell_type": "code",
   "execution_count": 15,
   "id": "e09e89ff",
   "metadata": {},
   "outputs": [
    {
     "name": "stdout",
     "output_type": "stream",
     "text": [
      "36\n",
      "Execution time -  0.002501249313354492\n"
     ]
    }
   ],
   "source": [
    "start = time.time()\n",
    "print(bettermedian(input1))\n",
    "end = time.time()\n",
    "print(\"Execution time - \", end-start)"
   ]
  },
  {
   "cell_type": "code",
   "execution_count": 16,
   "id": "b3a04668",
   "metadata": {},
   "outputs": [
    {
     "name": "stdout",
     "output_type": "stream",
     "text": [
      "1.06 µs ± 84.5 ns per loop (mean ± std. dev. of 7 runs, 1,000,000 loops each)\n"
     ]
    }
   ],
   "source": [
    "%%timeit\n",
    "bettermedian(input1)"
   ]
  },
  {
   "cell_type": "code",
   "execution_count": 18,
   "id": "fa014655",
   "metadata": {},
   "outputs": [
    {
     "name": "stdout",
     "output_type": "stream",
     "text": [
      "36.0\n"
     ]
    }
   ],
   "source": [
    "print(np.median(input1))"
   ]
  },
  {
   "cell_type": "code",
   "execution_count": 19,
   "id": "0b5991c4",
   "metadata": {},
   "outputs": [
    {
     "name": "stdout",
     "output_type": "stream",
     "text": [
      "5.09 µs ± 321 ns per loop (mean ± std. dev. of 7 runs, 100,000 loops each)\n"
     ]
    }
   ],
   "source": [
    "%%timeit\n",
    "np.median(input1)"
   ]
  },
  {
   "cell_type": "code",
   "execution_count": 20,
   "id": "20536c2c",
   "metadata": {},
   "outputs": [],
   "source": [
    "# Checking our method and numpy method for large values of n\n",
    "n = 10**5\n",
    "trial = (np.random.random(n))*10.0"
   ]
  },
  {
   "cell_type": "code",
   "execution_count": 21,
   "id": "c52b0b33",
   "metadata": {},
   "outputs": [
    {
     "name": "stdout",
     "output_type": "stream",
     "text": [
      "6.5 ms ± 105 µs per loop (mean ± std. dev. of 7 runs, 100 loops each)\n"
     ]
    }
   ],
   "source": [
    "%%timeit\n",
    "bettermedian(trial)"
   ]
  },
  {
   "cell_type": "code",
   "execution_count": 22,
   "id": "e70569ac",
   "metadata": {},
   "outputs": [
    {
     "name": "stdout",
     "output_type": "stream",
     "text": [
      "1.25 ms ± 33 µs per loop (mean ± std. dev. of 7 runs, 1,000 loops each)\n"
     ]
    }
   ],
   "source": [
    "%%timeit\n",
    "np.median(trial)"
   ]
  },
  {
   "cell_type": "markdown",
   "id": "363c139f",
   "metadata": {},
   "source": [
    "The numpy.median method may work slower than our method for small array size, but on array size of bigger order it works better than our method."
   ]
  },
  {
   "cell_type": "markdown",
   "id": "de800b9f",
   "metadata": {},
   "source": [
    "### Q4) What is the gradient of the following function (x2 * y + y3 * sin(x)) with respect to x and y?"
   ]
  },
  {
   "cell_type": "markdown",
   "id": "5823a940",
   "metadata": {},
   "source": [
    "Answer:"
   ]
  },
  {
   "cell_type": "markdown",
   "id": "91161f58",
   "metadata": {},
   "source": [
    "Gradient of funtion f(x) = x2*y + y3*sin(x) is delf/delx = 2xy + y3cos(x) and delf/dely = x2 + 3y2sin (x)"
   ]
  },
  {
   "cell_type": "markdown",
   "id": "3ffce082",
   "metadata": {},
   "source": [
    "### Q5) Use JAX to confirm the gradient evaluated by your method matches the analytical solution corresponding to a few random values of x and y"
   ]
  },
  {
   "cell_type": "code",
   "execution_count": 27,
   "id": "34d57406",
   "metadata": {},
   "outputs": [
    {
     "name": "stdout",
     "output_type": "stream",
     "text": [
      "Requirement already satisfied: jax in /Users/rutwikmore/anaconda3/lib/python3.11/site-packages (0.4.23)\n",
      "Requirement already satisfied: ml-dtypes>=0.2.0 in /Users/rutwikmore/anaconda3/lib/python3.11/site-packages (from jax) (0.2.0)\n",
      "Requirement already satisfied: numpy>=1.22 in /Users/rutwikmore/anaconda3/lib/python3.11/site-packages (from jax) (1.24.3)\n",
      "Requirement already satisfied: opt-einsum in /Users/rutwikmore/anaconda3/lib/python3.11/site-packages (from jax) (3.3.0)\n",
      "Requirement already satisfied: scipy>=1.9 in /Users/rutwikmore/anaconda3/lib/python3.11/site-packages (from jax) (1.11.4)\n",
      "Requirement already satisfied: jax in /Users/rutwikmore/anaconda3/lib/python3.11/site-packages (0.4.23)\n",
      "Collecting jaxlib\n",
      "  Obtaining dependency information for jaxlib from https://files.pythonhosted.org/packages/19/12/9233070e26993525b108f7bbfb6a1ec7c03a55cc4d906df356f1e478edad/jaxlib-0.4.23-cp311-cp311-macosx_11_0_arm64.whl.metadata\n",
      "  Downloading jaxlib-0.4.23-cp311-cp311-macosx_11_0_arm64.whl.metadata (2.1 kB)\n",
      "Requirement already satisfied: ml-dtypes>=0.2.0 in /Users/rutwikmore/anaconda3/lib/python3.11/site-packages (from jax) (0.2.0)\n",
      "Requirement already satisfied: numpy>=1.22 in /Users/rutwikmore/anaconda3/lib/python3.11/site-packages (from jax) (1.24.3)\n",
      "Requirement already satisfied: opt-einsum in /Users/rutwikmore/anaconda3/lib/python3.11/site-packages (from jax) (3.3.0)\n",
      "Requirement already satisfied: scipy>=1.9 in /Users/rutwikmore/anaconda3/lib/python3.11/site-packages (from jax) (1.11.4)\n",
      "Downloading jaxlib-0.4.23-cp311-cp311-macosx_11_0_arm64.whl (64.1 MB)\n",
      "\u001b[2K   \u001b[90m━━━━━━━━━━━━━━━━━━━━━━━━━━━━━━━━━━━━━━━━\u001b[0m \u001b[32m64.1/64.1 MB\u001b[0m \u001b[31m35.1 MB/s\u001b[0m eta \u001b[36m0:00:00\u001b[0m00:01\u001b[0m00:01\u001b[0m\n",
      "\u001b[?25hInstalling collected packages: jaxlib\n",
      "Successfully installed jaxlib-0.4.23\n"
     ]
    }
   ],
   "source": [
    "!pip install jax\n",
    "!pip install jax jaxlib"
   ]
  },
  {
   "cell_type": "code",
   "execution_count": 28,
   "id": "d031198b",
   "metadata": {},
   "outputs": [
    {
     "ename": "AttributeError",
     "evalue": "partially initialized module 'jax' has no attribute 'version' (most likely due to a circular import)",
     "output_type": "error",
     "traceback": [
      "\u001b[0;31m---------------------------------------------------------------------------\u001b[0m",
      "\u001b[0;31mAttributeError\u001b[0m                            Traceback (most recent call last)",
      "Cell \u001b[0;32mIn[28], line 3\u001b[0m\n\u001b[1;32m      1\u001b[0m \u001b[38;5;66;03m# Using Jax to get the gradient\u001b[39;00m\n\u001b[0;32m----> 3\u001b[0m \u001b[38;5;28;01mimport\u001b[39;00m \u001b[38;5;21;01mjax\u001b[39;00m\u001b[38;5;21;01m.\u001b[39;00m\u001b[38;5;21;01mnumpy\u001b[39;00m \u001b[38;5;28;01mas\u001b[39;00m \u001b[38;5;21;01mjnp\u001b[39;00m\n\u001b[1;32m      4\u001b[0m \u001b[38;5;28;01mfrom\u001b[39;00m \u001b[38;5;21;01mjax\u001b[39;00m \u001b[38;5;28;01mimport\u001b[39;00m grad\n\u001b[1;32m      6\u001b[0m g \u001b[38;5;241m=\u001b[39m \u001b[38;5;28;01mlambda\u001b[39;00m w: ((w[\u001b[38;5;241m0\u001b[39m])\u001b[38;5;241m*\u001b[39m\u001b[38;5;241m*\u001b[39m\u001b[38;5;241m2\u001b[39m)\u001b[38;5;241m*\u001b[39m(w[\u001b[38;5;241m1\u001b[39m]) \u001b[38;5;241m+\u001b[39m ((w[\u001b[38;5;241m1\u001b[39m])\u001b[38;5;241m*\u001b[39m\u001b[38;5;241m*\u001b[39m\u001b[38;5;241m3\u001b[39m)\u001b[38;5;241m*\u001b[39m(jnp\u001b[38;5;241m.\u001b[39msin(w[\u001b[38;5;241m0\u001b[39m]))\n",
      "File \u001b[0;32m~/anaconda3/lib/python3.11/site-packages/jax/__init__.py:39\u001b[0m\n\u001b[1;32m     34\u001b[0m \u001b[38;5;28;01mdel\u001b[39;00m _cloud_tpu_init\n\u001b[1;32m     36\u001b[0m \u001b[38;5;66;03m# Confusingly there are two things named \"config\": the module and the class.\u001b[39;00m\n\u001b[1;32m     37\u001b[0m \u001b[38;5;66;03m# We want the exported object to be the class, so we first import the module\u001b[39;00m\n\u001b[1;32m     38\u001b[0m \u001b[38;5;66;03m# to make sure a later import doesn't overwrite the class.\u001b[39;00m\n\u001b[0;32m---> 39\u001b[0m \u001b[38;5;28;01mfrom\u001b[39;00m \u001b[38;5;21;01mjax\u001b[39;00m \u001b[38;5;28;01mimport\u001b[39;00m config \u001b[38;5;28;01mas\u001b[39;00m _config_module\n\u001b[1;32m     40\u001b[0m \u001b[38;5;28;01mdel\u001b[39;00m _config_module\n\u001b[1;32m     42\u001b[0m \u001b[38;5;66;03m# Force early import, allowing use of `jax.core` after importing `jax`.\u001b[39;00m\n",
      "File \u001b[0;32m~/anaconda3/lib/python3.11/site-packages/jax/config.py:15\u001b[0m\n\u001b[1;32m      1\u001b[0m \u001b[38;5;66;03m# Copyright 2018 The JAX Authors.\u001b[39;00m\n\u001b[1;32m      2\u001b[0m \u001b[38;5;66;03m#\u001b[39;00m\n\u001b[1;32m      3\u001b[0m \u001b[38;5;66;03m# Licensed under the Apache License, Version 2.0 (the \"License\");\u001b[39;00m\n\u001b[0;32m   (...)\u001b[0m\n\u001b[1;32m     12\u001b[0m \u001b[38;5;66;03m# See the License for the specific language governing permissions and\u001b[39;00m\n\u001b[1;32m     13\u001b[0m \u001b[38;5;66;03m# limitations under the License.\u001b[39;00m\n\u001b[0;32m---> 15\u001b[0m \u001b[38;5;28;01mfrom\u001b[39;00m \u001b[38;5;21;01mjax\u001b[39;00m\u001b[38;5;21;01m.\u001b[39;00m\u001b[38;5;21;01m_src\u001b[39;00m\u001b[38;5;21;01m.\u001b[39;00m\u001b[38;5;21;01mconfig\u001b[39;00m \u001b[38;5;28;01mimport\u001b[39;00m config \u001b[38;5;28;01mas\u001b[39;00m _deprecated_config  \u001b[38;5;66;03m# noqa: F401\u001b[39;00m\n\u001b[1;32m     17\u001b[0m \u001b[38;5;66;03m# Deprecations\u001b[39;00m\n\u001b[1;32m     19\u001b[0m _deprecations \u001b[38;5;241m=\u001b[39m {\n\u001b[1;32m     20\u001b[0m     \u001b[38;5;66;03m# Added October 27, 2023\u001b[39;00m\n\u001b[1;32m     21\u001b[0m     \u001b[38;5;124m\"\u001b[39m\u001b[38;5;124mconfig\u001b[39m\u001b[38;5;124m\"\u001b[39m: (\n\u001b[1;32m     22\u001b[0m         \u001b[38;5;124m\"\u001b[39m\u001b[38;5;124mAccessing jax.config via the jax.config submodule is deprecated.\u001b[39m\u001b[38;5;124m\"\u001b[39m,\n\u001b[1;32m     23\u001b[0m         _deprecated_config),\n\u001b[1;32m     24\u001b[0m }\n",
      "File \u001b[0;32m~/anaconda3/lib/python3.11/site-packages/jax/_src/config.py:28\u001b[0m\n\u001b[1;32m     25\u001b[0m \u001b[38;5;28;01mfrom\u001b[39;00m \u001b[38;5;21;01mtyping\u001b[39;00m \u001b[38;5;28;01mimport\u001b[39;00m Any, Callable, Generic, NamedTuple, NoReturn, TypeVar\n\u001b[1;32m     26\u001b[0m \u001b[38;5;28;01mimport\u001b[39;00m \u001b[38;5;21;01mwarnings\u001b[39;00m\n\u001b[0;32m---> 28\u001b[0m \u001b[38;5;28;01mfrom\u001b[39;00m \u001b[38;5;21;01mjax\u001b[39;00m\u001b[38;5;21;01m.\u001b[39;00m\u001b[38;5;21;01m_src\u001b[39;00m \u001b[38;5;28;01mimport\u001b[39;00m lib\n\u001b[1;32m     29\u001b[0m \u001b[38;5;28;01mfrom\u001b[39;00m \u001b[38;5;21;01mjax\u001b[39;00m\u001b[38;5;21;01m.\u001b[39;00m\u001b[38;5;21;01m_src\u001b[39;00m\u001b[38;5;21;01m.\u001b[39;00m\u001b[38;5;21;01mlib\u001b[39;00m \u001b[38;5;28;01mimport\u001b[39;00m jax_jit\n\u001b[1;32m     30\u001b[0m \u001b[38;5;28;01mfrom\u001b[39;00m \u001b[38;5;21;01mjax\u001b[39;00m\u001b[38;5;21;01m.\u001b[39;00m\u001b[38;5;21;01m_src\u001b[39;00m\u001b[38;5;21;01m.\u001b[39;00m\u001b[38;5;21;01mlib\u001b[39;00m \u001b[38;5;28;01mimport\u001b[39;00m transfer_guard_lib\n",
      "File \u001b[0;32m~/anaconda3/lib/python3.11/site-packages/jax/_src/lib/__init__.py:75\u001b[0m\n\u001b[1;32m     70\u001b[0m   \u001b[38;5;28;01mreturn\u001b[39;00m _jaxlib_version\n\u001b[1;32m     73\u001b[0m version_str \u001b[38;5;241m=\u001b[39m jaxlib\u001b[38;5;241m.\u001b[39mversion\u001b[38;5;241m.\u001b[39m__version__\n\u001b[1;32m     74\u001b[0m version \u001b[38;5;241m=\u001b[39m check_jaxlib_version(\n\u001b[0;32m---> 75\u001b[0m   jax_version\u001b[38;5;241m=\u001b[39mjax\u001b[38;5;241m.\u001b[39mversion\u001b[38;5;241m.\u001b[39m__version__,\n\u001b[1;32m     76\u001b[0m   jaxlib_version\u001b[38;5;241m=\u001b[39mjaxlib\u001b[38;5;241m.\u001b[39mversion\u001b[38;5;241m.\u001b[39m__version__,\n\u001b[1;32m     77\u001b[0m   minimum_jaxlib_version\u001b[38;5;241m=\u001b[39mjax\u001b[38;5;241m.\u001b[39mversion\u001b[38;5;241m.\u001b[39m_minimum_jaxlib_version)\n\u001b[1;32m     79\u001b[0m \u001b[38;5;66;03m# Before importing any C compiled modules from jaxlib, first import the CPU\u001b[39;00m\n\u001b[1;32m     80\u001b[0m \u001b[38;5;66;03m# feature guard module to verify that jaxlib was compiled in a way that only\u001b[39;00m\n\u001b[1;32m     81\u001b[0m \u001b[38;5;66;03m# uses instructions that are present on this machine.\u001b[39;00m\n\u001b[1;32m     82\u001b[0m \u001b[38;5;28;01mimport\u001b[39;00m \u001b[38;5;21;01mjaxlib\u001b[39;00m\u001b[38;5;21;01m.\u001b[39;00m\u001b[38;5;21;01mcpu_feature_guard\u001b[39;00m \u001b[38;5;28;01mas\u001b[39;00m \u001b[38;5;21;01mcpu_feature_guard\u001b[39;00m\n",
      "\u001b[0;31mAttributeError\u001b[0m: partially initialized module 'jax' has no attribute 'version' (most likely due to a circular import)"
     ]
    }
   ],
   "source": [
    "# Using Jax to get the gradient\n",
    "\n",
    "import jax.numpy as jnp\n",
    "from jax import grad\n",
    "\n",
    "g = lambda w: ((w[0])**2)*(w[1]) + ((w[1])**3)*(jnp.sin(w[0]))\n",
    "\n",
    "a = jnp.array([1.1, 2])\n",
    "\n",
    "def gg(w):\n",
    "    return ((w[0])**2)*(w[1]) + ((w[1])**3)*(jnp.sin(w[0])) # w[0]**3 + w[1]**2\n",
    "\n",
    "gradient = grad(g)\n",
    "print(gradient(a))"
   ]
  },
  {
   "cell_type": "code",
   "execution_count": 30,
   "id": "686793a0",
   "metadata": {},
   "outputs": [
    {
     "data": {
      "text/latex": [
       "$\\displaystyle x^{2} + 3 y^{2} \\sin{\\left(x \\right)}$"
      ],
      "text/plain": [
       "x**2 + 3*y**2*sin(x)"
      ]
     },
     "execution_count": 30,
     "metadata": {},
     "output_type": "execute_result"
    }
   ],
   "source": [
    "# Using sympy \n",
    "from sympy import *\n",
    "x, y, z = symbols('x y z')\n",
    "def function(x,y):\n",
    "    return ((x)**2)*(y) + ((y)**3)*(sin(x)) # w[0]**3 + w[1]**2\n",
    "\n",
    "diff(function(x,y),y)"
   ]
  },
  {
   "cell_type": "code",
   "execution_count": 31,
   "id": "2e8dc81c",
   "metadata": {},
   "outputs": [
    {
     "data": {
      "text/latex": [
       "$\\displaystyle 2 x y + y^{3} \\cos{\\left(x \\right)}$"
      ],
      "text/plain": [
       "2*x*y + y**3*cos(x)"
      ]
     },
     "execution_count": 31,
     "metadata": {},
     "output_type": "execute_result"
    }
   ],
   "source": [
    "diff(function(x,y),x)"
   ]
  },
  {
   "cell_type": "markdown",
   "id": "9da7917b",
   "metadata": {},
   "source": [
    "### Q7) Create a Python nested dictionary to represent hierarchical information. We want to store record of students and their marks."
   ]
  },
  {
   "cell_type": "code",
   "execution_count": 46,
   "id": "6103661c",
   "metadata": {},
   "outputs": [],
   "source": [
    "def nested_dictionary(the_list):\n",
    "    l = len(the_list)\n",
    "    nest_dict = {}\n",
    "    for i in range(0,l,2):\n",
    "        if isinstance(the_list[i+1], list):\n",
    "            new_dict = nested_dictionary(the_list[i+1])\n",
    "            nest_dict[the_list[i]] = new_dict\n",
    "        else:\n",
    "            nest_dict[the_list[i]] = the_list[i+1]\n",
    "    return nest_dict"
   ]
  },
  {
   "cell_type": "code",
   "execution_count": 49,
   "id": "5b52400f",
   "metadata": {},
   "outputs": [
    {
     "name": "stdout",
     "output_type": "stream",
     "text": [
      "{'2022': {'Mech': {'ABC': 21110000}}, '2021': {'Cse': {'XYZ': 20100000}}}\n"
     ]
    }
   ],
   "source": [
    "list1 = [ \"2022\" , [ \"Mech\", [ \"ABC\" , 21110000]] , \"2021\" , [\"Cse\", [\"XYZ\" , 20100000] ] ]\n",
    "dictionary = nested_dictionary(list1)\n",
    "print(dictionary)"
   ]
  },
  {
   "cell_type": "markdown",
   "id": "9c61871b",
   "metadata": {},
   "source": [
    "### Q8) Store the same information using Python classes. We have an overall database which is a list of year objects. Each year contains a list of branches. Each branch contains a list of students. Each student has some properties like name, roll number and has marks in some subjects."
   ]
  },
  {
   "cell_type": "code",
   "execution_count": 32,
   "id": "62b5c334",
   "metadata": {},
   "outputs": [],
   "source": [
    "class Student:\n",
    "    def __init__(self,name,rollno):\n",
    "        self.name = name\n",
    "        self.rollno = rollno\n",
    "        self.Subjectlist = []\n",
    "    def addsubject(self, subject, marks):  ##\n",
    "        self.Subjectlist.append((subject, marks)) \n",
    "    def printdetails(self):\n",
    "        print(self.name ,\" : \" , self.rollno)\n",
    "        for subject in self.Subjectlist:\n",
    "            print(\"\\t\", end = '')\n",
    "            print(\"\\t\", end = '')\n",
    "            #print(len(self.Subjectlist))\n",
    "            print(subject[0], \":\" , subject[1])\n",
    "\n",
    "class Branch:\n",
    "    def __init__(self,name):\n",
    "        self.name = name\n",
    "        self.Studentlist = []\n",
    "    def addstudent(self, student):\n",
    "        self.Studentlist.append(student)\n",
    "    def printdetails(self):\n",
    "        print(\"\\t\", end = '')\n",
    "        print(self.name)\n",
    "        for student in self.Studentlist:\n",
    "            print(\"\\t\", end = '')\n",
    "            student.printdetails()\n",
    "\n",
    "class Years:\n",
    "    def __init__(self,name):\n",
    "        self.name = name\n",
    "        self.Branchlist = []\n",
    "    def addbranch(self, branch):\n",
    "        self.Branchlist.append(branch)\n",
    "    def printdetails(self):\n",
    "        print(\"Year: \", self.name)\n",
    "        for branch in self.Branchlist:\n",
    "            branch.printdetails()\n",
    "\n",
    "\n",
    "class College:\n",
    "    Yearlist = []\n",
    "    def __init__(self,name):\n",
    "        self.name = name\n",
    "    def addyear(self, year):\n",
    "        self.Yearlist.append(year)\n",
    "    def printdetails(self):\n",
    "        print(\"College name is: \", self.name)\n",
    "        for years in self.Yearlist:\n",
    "            years.printdetails()\n"
   ]
  },
  {
   "cell_type": "code",
   "execution_count": 33,
   "id": "8db2a139",
   "metadata": {},
   "outputs": [],
   "source": [
    "ABC = Student(\"ABC\", 21110000)\n",
    "ABC.addsubject(\"Chemistry\", 87)\n",
    "ABC.addsubject(\"Maths\", 85)\n",
    "Mech2021 = Branch(\"Mech\")\n",
    "Mech2021.addstudent(ABC)\n",
    "y2021 = Years(\"2021\")\n",
    "y2021.addbranch(Mech2021)\n",
    "\n",
    "iit_gn = College(\"IITgn\")\n",
    "iit_gn.addyear(y2021)"
   ]
  },
  {
   "cell_type": "code",
   "execution_count": 34,
   "id": "4d86be38",
   "metadata": {},
   "outputs": [
    {
     "name": "stdout",
     "output_type": "stream",
     "text": [
      "College name is:  IITgn\n",
      "Year:  2021\n",
      "\tMech\n",
      "\tABC  :  21110000\n",
      "\t\tChemistry : 87\n",
      "\t\tMaths : 85\n"
     ]
    }
   ],
   "source": [
    "iit_gn.printdetails()"
   ]
  },
  {
   "cell_type": "markdown",
   "id": "0be10813",
   "metadata": {},
   "source": [
    "### Q9) Using matplotlib plot the following functions on the domain: x = 0.5 to 100.0 in steps of 0.5."
   ]
  },
  {
   "cell_type": "markdown",
   "id": "9ad5b0d7",
   "metadata": {},
   "source": [
    "Answer: "
   ]
  },
  {
   "cell_type": "code",
   "execution_count": 36,
   "id": "c8b4b48e",
   "metadata": {},
   "outputs": [
    {
     "data": {
      "text/plain": [
       "[None, None]"
      ]
     },
     "execution_count": 36,
     "metadata": {},
     "output_type": "execute_result"
    },
    {
     "data": {
      "image/png": "[encoded data removed]",
      "text/plain": [
       "<Figure size 300x300 with 1 Axes>"
      ]
     },
     "metadata": {},
     "output_type": "display_data"
    }
   ],
   "source": [
    "import matplotlib.pyplot as plt\n",
    "\n",
    "x = np.linspace(0.5, 100, int((100-0.5)/0.5))\n",
    "q7f1 = lambda x: x\n",
    "\n",
    "fig, ax = plt.subplots()\n",
    "ax.plot(x, q7f1(x), c = \"blue\")\n",
    "ax.set(title = \"f1\")\n",
    "fig.set(figwidth = 3, figheight = 3)"
   ]
  },
  {
   "cell_type": "code",
   "execution_count": 37,
   "id": "52fcc534",
   "metadata": {},
   "outputs": [
    {
     "data": {
      "text/plain": [
       "[None, None]"
      ]
     },
     "execution_count": 37,
     "metadata": {},
     "output_type": "execute_result"
    },
    {
     "data": {
      "image/png": "[encoded data removed]",
      "text/plain": [
       "<Figure size 1500x800 with 6 Axes>"
      ]
     },
     "metadata": {},
     "output_type": "display_data"
    }
   ],
   "source": [
    "x = np.linspace(0.5, 100, int((100-0.5)/0.5))\n",
    "q7f2 = lambda x: x**2\n",
    "q7f3 = lambda x: x**3/100\n",
    "q7f4 = lambda x: np.sin(x)\n",
    "q7f5 = lambda x: np.sin(x)/x\n",
    "q7f6 = lambda x: np.log(x)\n",
    "q7f7 = lambda x: np.exp(x)\n",
    "\n",
    "fig, ax = plt.subplots(2,3)\n",
    "ax[0][0].plot(x, q7f2(x))\n",
    "ax[0][0].set(title = \"f2\")\n",
    "ax[0][1].plot(x, q7f3(x))\n",
    "ax[0][1].set(title = \"f3\")\n",
    "ax[0][2].plot(x, q7f4(x))\n",
    "ax[0][2].set(title = \"f4\")\n",
    "ax[1][0].plot(x, q7f5(x))\n",
    "ax[1][0].set(title = \"f5\")\n",
    "ax[1][1].plot(x, q7f6(x))\n",
    "ax[1][1].set(title = \"f6\")\n",
    "ax[1][2].plot(x, q7f7(x))\n",
    "ax[1][2].set(title = \"f7\")\n",
    "\n",
    "fig.set(figwidth= 15, figheight=8)"
   ]
  },
  {
   "cell_type": "markdown",
   "id": "fd93b9cc",
   "metadata": {},
   "source": [
    "### Q)10 Using numpy generate a matrix of size 20X5 containing random numbers drawn uniformly from the range of 1 to 2. Using Pandas create a dataframe out of this matrix. Name the columns of the dataframe as “a”, “b”, “c”, “d”, “e”. Find the column with the highest standard deviation. Find the row with the lowest mean."
   ]
  },
  {
   "cell_type": "markdown",
   "id": "276e4fb7",
   "metadata": {},
   "source": [
    "Answer:"
   ]
  },
  {
   "cell_type": "code",
   "execution_count": 38,
   "id": "b2daf471",
   "metadata": {},
   "outputs": [
    {
     "name": "stdout",
     "output_type": "stream",
     "text": [
      "           a         b         c         d         e\n",
      "0   1.535798  1.215054  1.690861  1.436574  1.754009\n",
      "1   1.943934  1.093177  1.116271  1.249237  1.442767\n",
      "2   1.031446  1.548048  1.779281  1.138528  1.102334\n",
      "3   1.862058  1.443425  1.537632  1.022251  1.500188\n",
      "4   1.737480  1.968505  1.428873  1.751409  1.689330\n",
      "5   1.532951  1.350341  1.854315  1.818586  1.184570\n",
      "6   1.463499  1.622921  1.484524  1.201625  1.691328\n",
      "7   1.524311  1.505678  1.043943  1.222556  1.886624\n",
      "8   1.427141  1.422364  1.179270  1.932340  1.464852\n",
      "9   1.941640  1.729468  1.473787  1.476530  1.643545\n",
      "10  1.997400  1.767671  1.757276  1.398276  1.645113\n",
      "11  1.414366  1.626072  1.060757  1.973664  1.648158\n",
      "12  1.790465  1.013518  1.892417  1.967430  1.475716\n",
      "13  1.591175  1.826316  1.685894  1.933442  1.411423\n",
      "14  1.947712  1.393856  1.946107  1.550860  1.170397\n",
      "15  1.127391  1.600855  1.645122  1.629051  1.737766\n",
      "16  1.266087  1.437036  1.753977  1.343363  1.767499\n",
      "17  1.396221  1.104382  1.686863  1.313939  1.482879\n",
      "18  1.391385  1.328837  1.853952  1.622608  1.082559\n",
      "19  1.904859  1.223101  1.375088  1.325400  1.209760\n"
     ]
    }
   ],
   "source": [
    "import pandas as pd\n",
    "q10data = np.random.random((20,5)) + 1\n",
    "df = pd.DataFrame(q10data, columns = ['a','b','c','d','e'])\n",
    "print(df)"
   ]
  },
  {
   "cell_type": "code",
   "execution_count": 39,
   "id": "1b0c706a",
   "metadata": {},
   "outputs": [
    {
     "name": "stdout",
     "output_type": "stream",
     "text": [
      "a    0.287429\n",
      "b    0.257123\n",
      "c    0.284315\n",
      "d    0.299494\n",
      "e    0.242374\n",
      "dtype: float64\n"
     ]
    },
    {
     "data": {
      "text/plain": [
       "'d'"
      ]
     },
     "execution_count": 39,
     "metadata": {},
     "output_type": "execute_result"
    }
   ],
   "source": [
    "std = df.std()\n",
    "print(std)\n",
    "std.idxmax()"
   ]
  },
  {
   "cell_type": "code",
   "execution_count": 40,
   "id": "b42479f4",
   "metadata": {},
   "outputs": [
    {
     "name": "stdout",
     "output_type": "stream",
     "text": [
      "0     1.526459\n",
      "1     1.369077\n",
      "2     1.319927\n",
      "3     1.473111\n",
      "4     1.715119\n",
      "5     1.548153\n",
      "6     1.492779\n",
      "7     1.436623\n",
      "8     1.485193\n",
      "9     1.652994\n",
      "10    1.713147\n",
      "11    1.544603\n",
      "12    1.627909\n",
      "13    1.689650\n",
      "14    1.601786\n",
      "15    1.548037\n",
      "16    1.513592\n",
      "17    1.396857\n",
      "18    1.455868\n",
      "19    1.407642\n",
      "dtype: float64\n"
     ]
    },
    {
     "data": {
      "text/plain": [
       "2"
      ]
     },
     "execution_count": 40,
     "metadata": {},
     "output_type": "execute_result"
    }
   ],
   "source": [
    "mean = df.mean(axis = 1)\n",
    "print(mean)\n",
    "mean.idxmin()"
   ]
  },
  {
   "cell_type": "markdown",
   "id": "056759eb",
   "metadata": {},
   "source": [
    "### Q)11 Add a new column to the dataframe called “f” which is the sum of the columns “a”, “b”, “c”, “d”, “e”. Create another column called “g”. The value in the column “g” should be “LT8” if the value in the column “f” is less than 8 and “GT8” otherwise. Find the number of rows in the dataframe where the value in the column “g” is “LT8”. Find the standard deviation of the column “f” for the rows where the value in the column “g” is “LT8” and “GT8” respectively."
   ]
  },
  {
   "cell_type": "markdown",
   "id": "a513d907",
   "metadata": {},
   "source": [
    "### Q)12 Write a small piece of code to explain broadcasting in numpy"
   ]
  },
  {
   "cell_type": "markdown",
   "id": "57ac5d83",
   "metadata": {},
   "source": [
    "Answer:"
   ]
  },
  {
   "cell_type": "markdown",
   "id": "952e1c69",
   "metadata": {},
   "source": [
    "Broadcasting is a numpy operation on two ojects where the smaller object (array) is broadcasted (imposed) over the larger one."
   ]
  },
  {
   "cell_type": "code",
   "execution_count": 41,
   "id": "46fbdf92",
   "metadata": {},
   "outputs": [
    {
     "name": "stdout",
     "output_type": "stream",
     "text": [
      "[[1. 2. 3.]\n",
      " [4. 5. 6.]\n",
      " [7. 8. 9.]]\n",
      "[[1 2 3]\n",
      " [4 5 6]\n",
      " [7 8 9]]\n"
     ]
    }
   ],
   "source": [
    "# Broadcasting in numpy with examples:\n",
    "array1 = np.ones((3,3))\n",
    "array2 = (np.arange(9)).reshape((3,3))\n",
    "print(array1+array2)\n",
    "print(1+array2)"
   ]
  },
  {
   "cell_type": "code",
   "execution_count": 42,
   "id": "eb6952fa",
   "metadata": {},
   "outputs": [
    {
     "data": {
      "text/plain": [
       "<matplotlib.colorbar.Colorbar at 0x10b289090>"
      ]
     },
     "execution_count": 42,
     "metadata": {},
     "output_type": "execute_result"
    },
    {
     "data": {
      "image/png": "[encoded data removed]",
      "text/plain": [
       "<Figure size 640x480 with 2 Axes>"
      ]
     },
     "metadata": {},
     "output_type": "display_data"
    }
   ],
   "source": [
    "x = np.linspace(0, 5, 50)\n",
    "y = np.linspace(0, 5, 50)[:, np.newaxis]\n",
    "# here we broadcast a (50) array and a (50,1) array\n",
    "z = np.sin(x) ** 10 + np.cos(10 + y * x) * np.cos(x)\n",
    "\n",
    "import matplotlib.pyplot as plt\n",
    "plt.imshow(z, origin='lower', extent=[0, 5, 0, 5],cmap='viridis')\n",
    "plt.colorbar()"
   ]
  },
  {
   "cell_type": "markdown",
   "id": "c7c78f16",
   "metadata": {},
   "source": [
    "### Q)13 Write a function to compute the argmin of a numpy array. The function should take a numpy array as input and return the index of the minimum element. You can use the np.argmin function to verify your solution."
   ]
  },
  {
   "cell_type": "markdown",
   "id": "7deaf896",
   "metadata": {},
   "source": [
    "Answer:"
   ]
  },
  {
   "cell_type": "code",
   "execution_count": 43,
   "id": "1f85787d",
   "metadata": {},
   "outputs": [],
   "source": [
    "def argmin(A):\n",
    "    l = len(A)\n",
    "    min = A[0]\n",
    "    min_index = 0\n",
    "    for i in range(l):\n",
    "        if (A[i] <= min):\n",
    "            min = A[i]\n",
    "            min_index = i\n",
    "    return min_index"
   ]
  },
  {
   "cell_type": "code",
   "execution_count": 44,
   "id": "b5d8ec62",
   "metadata": {},
   "outputs": [
    {
     "name": "stdout",
     "output_type": "stream",
     "text": [
      "[91 60 13 14 14  7 11 65 51 73 11 53  2 92 84 20 26 22 54 14]\n",
      "12\n"
     ]
    }
   ],
   "source": [
    "array  = np.random.randint(0,100,20)\n",
    "print(array)\n",
    "print(argmin(array))"
   ]
  },
  {
   "cell_type": "code",
   "execution_count": 45,
   "id": "9bbe7106",
   "metadata": {},
   "outputs": [
    {
     "data": {
      "text/plain": [
       "12"
      ]
     },
     "execution_count": 45,
     "metadata": {},
     "output_type": "execute_result"
    }
   ],
   "source": [
    "# argminimum using numpy method\n",
    "np.argmin(array)"
   ]
  }
 ],
 "metadata": {
  "kernelspec": {
   "display_name": "Python 3 (ipykernel)",
   "language": "python",
   "name": "python3"
  },
  "language_info": {
   "codemirror_mode": {
    "name": "ipython",
    "version": 3
   },
   "file_extension": ".py",
   "mimetype": "text/x-python",
   "name": "python",
   "nbconvert_exporter": "python",
   "pygments_lexer": "ipython3",
   "version": "3.11.4"
  }
 },
 "nbformat": 4,
 "nbformat_minor": 5
}
